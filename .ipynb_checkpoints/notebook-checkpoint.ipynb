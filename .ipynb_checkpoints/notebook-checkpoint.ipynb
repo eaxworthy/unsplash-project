{
 "cells": [
  {
   "cell_type": "code",
   "execution_count": 47,
   "metadata": {},
   "outputs": [],
   "source": [
    "import pandas as pd\n",
    "import numpy as np\n",
    "import scipy.stats as stats\n",
    "import glob"
   ]
  },
  {
   "cell_type": "code",
   "execution_count": 2,
   "metadata": {},
   "outputs": [],
   "source": [
    "path = 'unsplash-lite-dataset-25k-nature/'\n",
    "documents = ['photos', 'keywords', 'collections', 'conversions']\n",
    "datasets = {}\n",
    "\n",
    "for doc in documents:\n",
    "  files = glob.glob(path + doc + \".tsv*\")\n",
    "\n",
    "  subsets = []\n",
    "  for filename in files:\n",
    "    df = pd.read_csv(filename, sep='\\t', header=0)\n",
    "    subsets.append(df)\n",
    "\n",
    "  datasets[doc] = pd.concat(subsets, axis=0, ignore_index=True)"
   ]
  },
  {
   "cell_type": "markdown",
   "metadata": {},
   "source": [
    "# Preliminary data inspection"
   ]
  },
  {
   "cell_type": "markdown",
   "metadata": {},
   "source": [
    "### Photos"
   ]
  },
  {
   "cell_type": "code",
   "execution_count": 3,
   "metadata": {},
   "outputs": [],
   "source": [
    "datasets['photos'].count()\n",
    "num_photos = datasets['photos']['photo_id'].size"
   ]
  },
  {
   "cell_type": "markdown",
   "metadata": {},
   "source": [
    "### Keywords"
   ]
  },
  {
   "cell_type": "code",
   "execution_count": 4,
   "metadata": {},
   "outputs": [
    {
     "name": "stdout",
     "output_type": "stream",
     "text": [
      "photo_id                   2689739\n",
      "keyword                    2689739\n",
      "ai_service_1_confidence    2390469\n",
      "ai_service_2_confidence     219507\n",
      "suggested_by_user          2689739\n",
      "dtype: int64\n",
      "25000\n"
     ]
    }
   ],
   "source": [
    "print(datasets['keywords'].count())\n",
    "print(len(pd.unique(datasets['keywords']['photo_id'])))"
   ]
  },
  {
   "cell_type": "code",
   "execution_count": 42,
   "metadata": {},
   "outputs": [
    {
     "name": "stdout",
     "output_type": "stream",
     "text": [
      "The most used keyword is plant which is used 20582 times.\n"
     ]
    }
   ],
   "source": [
    "keywords = datasets['keywords'].groupby('keyword').count()['photo_id']\n",
    "print(f\"The most used keyword is {keywords.idxmax()} which is used {keywords.max()} times.\")"
   ]
  },
  {
   "cell_type": "code",
   "execution_count": 43,
   "metadata": {},
   "outputs": [
    {
     "name": "stdout",
     "output_type": "stream",
     "text": [
      "11940 keywords used more that 1 times.\n",
      "5909 keywords used more that 5 times.\n",
      "4580 keywords used more that 10 times.\n",
      "3300 keywords used more that 25 times.\n",
      "2604 keywords used more that 50 times.\n",
      "2067 keywords used more that 100 times.\n",
      "1016 keywords used more that 500 times.\n",
      "654 keywords used more that 1000 times.\n",
      "107 keywords used more that 5000 times.\n",
      "23 keywords used more that 10000 times.\n",
      "1 keywords used more that 20000 times.\n",
      "\n"
     ]
    }
   ],
   "source": [
    "summary = \"\"\n",
    "keyword_counts = [1, 5, 10, 25, 50, 100, 500, 1000, 5000, 10000, 20000]\n",
    "for i in keyword_counts:\n",
    "    summary = summary + (f\"{len(keywords[keywords>i])} keywords used more that {i} times.\\n\")\n",
    "print(summary)"
   ]
  },
  {
   "cell_type": "code",
   "execution_count": 49,
   "metadata": {},
   "outputs": [
    {
     "name": "stdout",
     "output_type": "stream",
     "text": [
      "The average number of times a keyword is used is [1]\n"
     ]
    }
   ],
   "source": [
    "print(f\"The average number of times a keyword is used is {stats.mode(keywords)[0]}\")"
   ]
  },
  {
   "cell_type": "markdown",
   "metadata": {},
   "source": [
    "### Collections"
   ]
  },
  {
   "cell_type": "code",
   "execution_count": 5,
   "metadata": {},
   "outputs": [
    {
     "name": "stdout",
     "output_type": "stream",
     "text": [
      "photo_id              1646597\n",
      "collection_id         1646597\n",
      "collection_title      1646575\n",
      "photo_collected_at    1646597\n",
      "dtype: int64\n",
      "405906\n",
      "24954\n"
     ]
    }
   ],
   "source": [
    "print(datasets['collections'].count())\n",
    "print(len(datasets['collections']['collection_id'].unique()))\n",
    "print(len(datasets['collections']['photo_id'].unique()))"
   ]
  },
  {
   "cell_type": "markdown",
   "metadata": {},
   "source": [
    "### Conversions"
   ]
  },
  {
   "cell_type": "code",
   "execution_count": 6,
   "metadata": {},
   "outputs": [
    {
     "name": "stdout",
     "output_type": "stream",
     "text": [
      "converted_at          4075504\n",
      "conversion_type       4075504\n",
      "keyword               4075504\n",
      "photo_id              4075504\n",
      "anonymous_user_id     4075504\n",
      "conversion_country    4068248\n",
      "dtype: int64\n",
      "23288\n"
     ]
    }
   ],
   "source": [
    "print(datasets['conversions'].count())\n",
    "print(len(datasets['conversions']['photo_id'].unique()))"
   ]
  },
  {
   "cell_type": "markdown",
   "metadata": {},
   "source": [
    "So some initial observations from checking out the unique 'photo_id's from all of the dataframes are that there are 25000 total photos, that all photos are found throughout the 'Keywords' dataset, but that some photos have not been placed in a collection or been converted."
   ]
  },
  {
   "cell_type": "markdown",
   "metadata": {},
   "source": [
    "# Brainstorming - What to do with data"
   ]
  },
  {
   "cell_type": "markdown",
   "metadata": {},
   "source": [
    "### Machine Learning\n",
    "* given an image, assign keywords\n",
    "* suggest additional keywords for images\n",
    "* suggest new images for collections, or vise versa, collections to add an image to.\n",
    "* build new collections based on a set of keywords\n",
    "* suggest photo subjects based on what's popular"
   ]
  },
  {
   "cell_type": "markdown",
   "metadata": {},
   "source": [
    "### General Data Stuff\n",
    "* Most popular types of photos based on the conversions df.\n",
    "* Which countries download what."
   ]
  },
  {
   "cell_type": "markdown",
   "metadata": {},
   "source": [
    "# Visualization"
   ]
  },
  {
   "cell_type": "code",
   "execution_count": 7,
   "metadata": {},
   "outputs": [],
   "source": [
    "import matplotlib as plt"
   ]
  }
 ],
 "metadata": {
  "kernelspec": {
   "display_name": "Python 3",
   "language": "python",
   "name": "python3"
  },
  "language_info": {
   "codemirror_mode": {
    "name": "ipython",
    "version": 3
   },
   "file_extension": ".py",
   "mimetype": "text/x-python",
   "name": "python",
   "nbconvert_exporter": "python",
   "pygments_lexer": "ipython3",
   "version": "3.8.5"
  }
 },
 "nbformat": 4,
 "nbformat_minor": 4
}
