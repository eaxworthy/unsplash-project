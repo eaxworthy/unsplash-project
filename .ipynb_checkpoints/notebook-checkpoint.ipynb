{
 "cells": [
  {
   "cell_type": "code",
   "execution_count": 2,
   "metadata": {},
   "outputs": [],
   "source": [
    "import pandas as pd\n",
    "import numpy as np\n",
    "import glob"
   ]
  },
  {
   "cell_type": "code",
   "execution_count": 3,
   "metadata": {},
   "outputs": [],
   "source": [
    "path = 'unsplash-lite-dataset-25k-nature/'\n",
    "documents = ['photos', 'keywords', 'collections', 'conversions']\n",
    "datasets = {}\n",
    "\n",
    "for doc in documents:\n",
    "  files = glob.glob(path + doc + \".tsv*\")\n",
    "\n",
    "  subsets = []\n",
    "  for filename in files:\n",
    "    df = pd.read_csv(filename, sep='\\t', header=0)\n",
    "    subsets.append(df)\n",
    "\n",
    "  datasets[doc] = pd.concat(subsets, axis=0, ignore_index=True)"
   ]
  },
  {
   "cell_type": "code",
   "execution_count": 18,
   "metadata": {},
   "outputs": [
    {
     "data": {
      "text/plain": [
       "25000"
      ]
     },
     "execution_count": 18,
     "metadata": {},
     "output_type": "execute_result"
    }
   ],
   "source": [
    "datasets['photos'].count()\n",
    "num_photos = datasets['photos']['photo_id'].size"
   ]
  },
  {
   "cell_type": "code",
   "execution_count": 9,
   "metadata": {},
   "outputs": [
    {
     "name": "stdout",
     "output_type": "stream",
     "text": [
      "photo_id                   2689739\n",
      "keyword                    2689739\n",
      "ai_service_1_confidence    2390469\n",
      "ai_service_2_confidence     219507\n",
      "suggested_by_user          2689739\n",
      "dtype: int64\n",
      "25000\n"
     ]
    }
   ],
   "source": [
    "print(datasets['keywords'].count())\n",
    "print(len(pd.unique(datasets['keywords']['photo_id'])))"
   ]
  },
  {
   "cell_type": "code",
   "execution_count": 11,
   "metadata": {},
   "outputs": [
    {
     "name": "stdout",
     "output_type": "stream",
     "text": [
      "photo_id              1646597\n",
      "collection_id         1646597\n",
      "collection_title      1646575\n",
      "photo_collected_at    1646597\n",
      "dtype: int64\n",
      "405906\n",
      "24954\n"
     ]
    }
   ],
   "source": [
    "print(datasets['collections'].count())\n",
    "print(len(datasets['collections']['collection_id'].unique()))\n",
    "print(len(datasets['collections']['photo_id'].unique()))"
   ]
  },
  {
   "cell_type": "code",
   "execution_count": 15,
   "metadata": {},
   "outputs": [
    {
     "name": "stdout",
     "output_type": "stream",
     "text": [
      "converted_at          4075504\n",
      "conversion_type       4075504\n",
      "keyword               4075504\n",
      "photo_id              4075504\n",
      "anonymous_user_id     4075504\n",
      "conversion_country    4068248\n",
      "dtype: int64\n",
      "23288\n"
     ]
    }
   ],
   "source": [
    "print(datasets['conversions'].count())\n",
    "print(len(datasets['conversions']['photo_id'].unique()))"
   ]
  },
  {
   "cell_type": "markdown",
   "metadata": {},
   "source": [
    "So some initial observations from checking out the unique 'photo_id's from all of the dataframes are that there are 25000 total photos, that all photos are found throughout the 'Keywords' dataset, but that some photos have not been placed in a collection or been converted."
   ]
  }
 ],
 "metadata": {
  "kernelspec": {
   "display_name": "PythonData",
   "language": "python",
   "name": "pythondata"
  },
  "language_info": {
   "codemirror_mode": {
    "name": "ipython",
    "version": 3
   },
   "file_extension": ".py",
   "mimetype": "text/x-python",
   "name": "python",
   "nbconvert_exporter": "python",
   "pygments_lexer": "ipython3",
   "version": "3.7.7"
  }
 },
 "nbformat": 4,
 "nbformat_minor": 4
}
