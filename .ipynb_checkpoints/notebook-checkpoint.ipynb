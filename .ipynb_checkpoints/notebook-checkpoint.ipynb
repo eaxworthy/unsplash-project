{
 "cells": [
  {
   "cell_type": "code",
   "execution_count": 2,
   "metadata": {},
   "outputs": [],
   "source": [
    "import pandas as pd\n",
    "import numpy as np\n",
    "import glob"
   ]
  },
  {
   "cell_type": "code",
   "execution_count": 3,
   "metadata": {},
   "outputs": [],
   "source": [
    "path = 'unsplash-lite-dataset-25k-nature/'\n",
    "documents = ['photos', 'keywords', 'collections', 'conversions']\n",
    "datasets = {}\n",
    "\n",
    "for doc in documents:\n",
    "  files = glob.glob(path + doc + \".tsv*\")\n",
    "\n",
    "  subsets = []\n",
    "  for filename in files:\n",
    "    df = pd.read_csv(filename, sep='\\t', header=0)\n",
    "    subsets.append(df)\n",
    "\n",
    "  datasets[doc] = pd.concat(subsets, axis=0, ignore_index=True)"
   ]
  },
  {
   "cell_type": "markdown",
   "metadata": {},
   "source": [
    "# Preliminary data inspection"
   ]
  },
  {
   "cell_type": "code",
   "execution_count": 18,
   "metadata": {},
   "outputs": [
    {
     "data": {
      "text/plain": [
       "25000"
      ]
     },
     "execution_count": 18,
     "metadata": {},
     "output_type": "execute_result"
    }
   ],
   "source": [
    "datasets['photos'].count()\n",
    "num_photos = datasets['photos']['photo_id'].size"
   ]
  },
  {
   "cell_type": "code",
   "execution_count": 9,
   "metadata": {},
   "outputs": [
    {
     "name": "stdout",
     "output_type": "stream",
     "text": [
      "photo_id                   2689739\n",
      "keyword                    2689739\n",
      "ai_service_1_confidence    2390469\n",
      "ai_service_2_confidence     219507\n",
      "suggested_by_user          2689739\n",
      "dtype: int64\n",
      "25000\n"
     ]
    }
   ],
   "source": [
    "print(datasets['keywords'].count())\n",
    "print(len(pd.unique(datasets['keywords']['photo_id'])))"
   ]
  },
  {
   "cell_type": "code",
   "execution_count": 11,
   "metadata": {},
   "outputs": [
    {
     "name": "stdout",
     "output_type": "stream",
     "text": [
      "photo_id              1646597\n",
      "collection_id         1646597\n",
      "collection_title      1646575\n",
      "photo_collected_at    1646597\n",
      "dtype: int64\n",
      "405906\n",
      "24954\n"
     ]
    }
   ],
   "source": [
    "print(datasets['collections'].count())\n",
    "print(len(datasets['collections']['collection_id'].unique()))\n",
    "print(len(datasets['collections']['photo_id'].unique()))"
   ]
  },
  {
   "cell_type": "code",
   "execution_count": 1,
   "metadata": {},
   "outputs": [
    {
     "ename": "NameError",
     "evalue": "name 'datasets' is not defined",
     "output_type": "error",
     "traceback": [
      "\u001b[0;31m---------------------------------------------------------------------------\u001b[0m",
      "\u001b[0;31mNameError\u001b[0m                                 Traceback (most recent call last)",
      "\u001b[0;32m<ipython-input-1-dceb78d3987f>\u001b[0m in \u001b[0;36m<module>\u001b[0;34m\u001b[0m\n\u001b[0;32m----> 1\u001b[0;31m \u001b[0mprint\u001b[0m\u001b[0;34m(\u001b[0m\u001b[0mdatasets\u001b[0m\u001b[0;34m[\u001b[0m\u001b[0;34m'conversions'\u001b[0m\u001b[0;34m]\u001b[0m\u001b[0;34m.\u001b[0m\u001b[0mcount\u001b[0m\u001b[0;34m(\u001b[0m\u001b[0;34m)\u001b[0m\u001b[0;34m)\u001b[0m\u001b[0;34m\u001b[0m\u001b[0;34m\u001b[0m\u001b[0m\n\u001b[0m\u001b[1;32m      2\u001b[0m \u001b[0mprint\u001b[0m\u001b[0;34m(\u001b[0m\u001b[0mlen\u001b[0m\u001b[0;34m(\u001b[0m\u001b[0mdatasets\u001b[0m\u001b[0;34m[\u001b[0m\u001b[0;34m'conversions'\u001b[0m\u001b[0;34m]\u001b[0m\u001b[0;34m[\u001b[0m\u001b[0;34m'photo_id'\u001b[0m\u001b[0;34m]\u001b[0m\u001b[0;34m.\u001b[0m\u001b[0munique\u001b[0m\u001b[0;34m(\u001b[0m\u001b[0;34m)\u001b[0m\u001b[0;34m)\u001b[0m\u001b[0;34m)\u001b[0m\u001b[0;34m\u001b[0m\u001b[0;34m\u001b[0m\u001b[0m\n",
      "\u001b[0;31mNameError\u001b[0m: name 'datasets' is not defined"
     ]
    }
   ],
   "source": [
    "print(datasets['conversions'].count())\n",
    "print(len(datasets['conversions']['photo_id'].unique()))"
   ]
  },
  {
   "cell_type": "markdown",
   "metadata": {},
   "source": [
    "So some initial observations from checking out the unique 'photo_id's from all of the dataframes are that there are 25000 total photos, that all photos are found throughout the 'Keywords' dataset, but that some photos have not been placed in a collection or been converted."
   ]
  },
  {
   "cell_type": "markdown",
   "metadata": {},
   "source": [
    "# Brainstorming - What to do with data"
   ]
  },
  {
   "cell_type": "markdown",
   "metadata": {},
   "source": [
    "### Machine Learning\n",
    "* given an image, assign keywords\n",
    "* suggest additional keywords for images\n",
    "* suggest new images for collections, or vise versa, collections to add an image to.\n",
    "* build new collections based on a set of keywords\n",
    "* suggest photo subjects based on what's popular"
   ]
  },
  {
   "cell_type": "markdown",
   "metadata": {},
   "source": [
    "### General Data Stuff\n",
    "* Most popular types of photos based on the conversions df.\n",
    "* Which countries download what."
   ]
  }
 ],
 "metadata": {
  "kernelspec": {
   "display_name": "Python 3",
   "language": "python",
   "name": "python3"
  },
  "language_info": {
   "codemirror_mode": {
    "name": "ipython",
    "version": 3
   },
   "file_extension": ".py",
   "mimetype": "text/x-python",
   "name": "python",
   "nbconvert_exporter": "python",
   "pygments_lexer": "ipython3",
   "version": "3.7.7"
  }
 },
 "nbformat": 4,
 "nbformat_minor": 4
}
