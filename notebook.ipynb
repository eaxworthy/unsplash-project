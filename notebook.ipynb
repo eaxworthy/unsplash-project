{
 "cells": [
  {
   "cell_type": "code",
   "execution_count": 1,
   "metadata": {},
   "outputs": [],
   "source": [
    "import pandas as pd\n",
    "import numpy as np\n",
    "import glob"
   ]
  },
  {
   "cell_type": "code",
   "execution_count": 2,
   "metadata": {},
   "outputs": [],
   "source": [
    "path = 'unsplash-lite-dataset-25k-nature/'\n",
    "documents = ['photos', 'keywords', 'collections', 'conversions']\n",
    "datasets = {}\n",
    "\n",
    "for doc in documents:\n",
    "  files = glob.glob(path + doc + \".tsv*\")\n",
    "\n",
    "  subsets = []\n",
    "  for filename in files:\n",
    "    df = pd.read_csv(filename, sep='\\t', header=0)\n",
    "    subsets.append(df)\n",
    "\n",
    "  datasets[doc] = pd.concat(subsets, axis=0, ignore_index=True)"
   ]
  },
  {
   "cell_type": "code",
   "execution_count": 4,
   "metadata": {},
   "outputs": [
    {
     "data": {
      "text/plain": [
       "photo_id                          25000\n",
       "photo_url                         25000\n",
       "photo_image_url                   25000\n",
       "photo_submitted_at                25000\n",
       "photo_featured                    25000\n",
       "photographer_username             25000\n",
       "photographer_first_name           25000\n",
       "photographer_last_name            23344\n",
       "exif_camera_make                  22170\n",
       "exif_camera_model                 22126\n",
       "exif_iso                          21785\n",
       "exif_aperture_value               21384\n",
       "exif_focal_length                 21483\n",
       "exif_exposure_time                21762\n",
       "photo_location_name                9478\n",
       "photo_location_latitude            6895\n",
       "photo_location_longitude           6892\n",
       "photo_location_country             8563\n",
       "photo_location_city                5984\n",
       "stats_views                       25000\n",
       "stats_downloads                   25000\n",
       "ai_description                    23607\n",
       "ai_primary_landmark_name              0\n",
       "ai_primary_landmark_latitude          0\n",
       "ai_primary_landmark_longitude         0\n",
       "ai_primary_landmark_confidence        0\n",
       "dtype: int64"
      ]
     },
     "execution_count": 4,
     "metadata": {},
     "output_type": "execute_result"
    }
   ],
   "source": [
    "datasets['photos'].count()"
   ]
  },
  {
   "cell_type": "code",
   "execution_count": 10,
   "metadata": {},
   "outputs": [
    {
     "data": {
      "text/plain": [
       "photo_id                   2689739\n",
       "keyword                    2689739\n",
       "ai_service_1_confidence    2390469\n",
       "ai_service_2_confidence     219507\n",
       "suggested_by_user          2689739\n",
       "dtype: int64"
      ]
     },
     "execution_count": 10,
     "metadata": {},
     "output_type": "execute_result"
    }
   ],
   "source": [
    "datasets['keywords'].count()"
   ]
  },
  {
   "cell_type": "code",
   "execution_count": 17,
   "metadata": {},
   "outputs": [
    {
     "name": "stdout",
     "output_type": "stream",
     "text": [
      "photo_id              1646597\n",
      "collection_id         1646597\n",
      "collection_title      1646575\n",
      "photo_collected_at    1646597\n",
      "dtype: int64\n",
      "405906\n"
     ]
    }
   ],
   "source": [
    "print(datasets['collections'].count())\n",
    "print(len(datasets['collections']['collection_id'].unique()))"
   ]
  },
  {
   "cell_type": "code",
   "execution_count": 12,
   "metadata": {},
   "outputs": [
    {
     "data": {
      "text/plain": [
       "converted_at          4075504\n",
       "conversion_type       4075504\n",
       "keyword               4075504\n",
       "photo_id              4075504\n",
       "anonymous_user_id     4075504\n",
       "conversion_country    4068248\n",
       "dtype: int64"
      ]
     },
     "execution_count": 12,
     "metadata": {},
     "output_type": "execute_result"
    }
   ],
   "source": [
    "datasets['conversions'].count()"
   ]
  },
  {
   "cell_type": "code",
   "execution_count": null,
   "metadata": {},
   "outputs": [],
   "source": []
  }
 ],
 "metadata": {
  "kernelspec": {
   "display_name": "PythonData",
   "language": "python",
   "name": "pythondata"
  },
  "language_info": {
   "codemirror_mode": {
    "name": "ipython",
    "version": 3
   },
   "file_extension": ".py",
   "mimetype": "text/x-python",
   "name": "python",
   "nbconvert_exporter": "python",
   "pygments_lexer": "ipython3",
   "version": "3.7.7"
  }
 },
 "nbformat": 4,
 "nbformat_minor": 4
}
